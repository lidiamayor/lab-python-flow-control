{
 "cells": [
  {
   "cell_type": "markdown",
   "id": "d3bfc191-8885-42ee-b0a0-bbab867c6f9f",
   "metadata": {
    "tags": []
   },
   "source": [
    "# Lab | Flow Control"
   ]
  },
  {
   "cell_type": "markdown",
   "id": "3851fcd1-cf98-4653-9c89-e003b7ec9400",
   "metadata": {},
   "source": [
    "## Exercise: Managing Customer Orders Optimized\n",
    "\n",
    "In the last lab, you were starting an online store that sells various products. To ensure smooth operations, you developed a program that manages customer orders and inventory.\n",
    "\n",
    "You did so without using flow control. Let's go a step further and improve this code.\n",
    "\n",
    "Follow the steps below to complete the exercise:\n",
    "\n",
    "1. Look at your code from the lab data structures, and improve repeated code with loops.\n",
    "\n",
    "2. Instead of asking the user to input the name of three products that a customer wants to order, do the following:\n",
    "    \n",
    "    a. Prompt the user to enter the name of a product that a customer wants to order.\n",
    "    \n",
    "    b. Add the product name to the \"customer_orders\" set.\n",
    "    \n",
    "    c. Ask the user if they want to add another product (yes/no).\n",
    "    \n",
    "    d. Continue the loop until the user does not want to add another product.\n",
    "\n",
    "3. Instead of updating the inventory by subtracting 1 from the quantity of each product, only do it for  the products that were ordered (those in \"customer_orders\")."
   ]
  },
  {
   "cell_type": "code",
   "execution_count": 11,
   "id": "0974acf0",
   "metadata": {},
   "outputs": [
    {
     "name": "stdout",
     "output_type": "stream",
     "text": [
      "{'t-shirt': 2, 'mug': 3, 'hat': 4, 'book': 5, 'keychain': 1}\n"
     ]
    }
   ],
   "source": [
    "products = [\"t-shirt\", \"mug\", \"hat\", \"book\", \"keychain\"] # list of products\n",
    "inventory = {} # empty dictionary to store the inventory\n",
    "\n",
    "for product in products:\n",
    "    available= input(f\"Enter the quantity of {product} available: \") # ask user to input the quantity of each product\n",
    "    while not available.isdigit(): # check if the input is an integer\n",
    "        available = input(f\"Invalid quantity. Please enter the quantity of {product} available: \")\n",
    "    inventory[product] = int(available) # add the product and its quantity to the inventory dictionary\n",
    "\n",
    "print(inventory)"
   ]
  },
  {
   "cell_type": "code",
   "execution_count": 12,
   "id": "ad6f9b6d",
   "metadata": {},
   "outputs": [
    {
     "name": "stdout",
     "output_type": "stream",
     "text": [
      "\n",
      "Customer orders:\n",
      "{'mug', 'hat', 'book', 'keychain'}\n"
     ]
    }
   ],
   "source": [
    "customer_orders = set() # empty set to store the customer orders\n",
    "while True:\n",
    "    product = input(f\"Please enter the product you want between {products}: \") # ask user to input the three productc they want\n",
    "    while product not in products: # check if the input is in the list of products\n",
    "        product = input(f\"Invalid product. Please enter the product you want between {products}: \")\n",
    "    while inventory[product]==0:\n",
    "        product = input(f\"The product is out of stock. Please enter the product you want: \")\n",
    "    customer_orders.add(product) # add the product to the customer orders\n",
    "\n",
    "    ask = input(\"Do you want to add another product? (yes/no)\")\n",
    "    while ask.lower() != \"no\" and ask.lower() != \"yes\":\n",
    "        ask = input(\"Invalid input. Do you want to add another product? (yes/no)\")\n",
    "    if ask.lower() == \"no\":\n",
    "        break\n",
    "\n",
    "print()\n",
    "print(\"Customer orders:\")\n",
    "print(customer_orders)"
   ]
  },
  {
   "cell_type": "code",
   "execution_count": 20,
   "id": "47e24b9a",
   "metadata": {},
   "outputs": [
    {
     "name": "stdout",
     "output_type": "stream",
     "text": [
      "\n",
      "Order Statistics:\n",
      "Total Products Ordered: 4\n",
      "Percentage of Products Ordered: 80.0 %\n"
     ]
    }
   ],
   "source": [
    "total_products_ordered = len(customer_orders) # count the total number of products ordered\n",
    "total_products = len(products) # count the total number of products available\n",
    "percentage = total_products_ordered/total_products*100 # calculate the percentage of products ordered\n",
    "\n",
    "order_status = (total_products_ordered, percentage) # tuple of total products ordered and percentage\n",
    "print()\n",
    "print(\"Order Statistics:\")\n",
    "print(\"Total Products Ordered:\", order_status[0])\n",
    "print(\"Percentage of Products Ordered:\", order_status[1], \"%\")"
   ]
  },
  {
   "cell_type": "code",
   "execution_count": 16,
   "id": "4dae0f1d",
   "metadata": {},
   "outputs": [
    {
     "name": "stdout",
     "output_type": "stream",
     "text": [
      "\n",
      "t-shirt: 2\n",
      "mug: 0\n",
      "hat: 1\n",
      "book: 2\n",
      "keychain: -2\n"
     ]
    }
   ],
   "source": [
    "for product in customer_orders:\n",
    "    inventory[product] -= 1 # update the inventory\n",
    "    \n",
    "print()\n",
    "for key,value in inventory.items(): # print the updated inventory\n",
    "    print(f\"{key}: {value}\")"
   ]
  }
 ],
 "metadata": {
  "kernelspec": {
   "display_name": "Python 3 (ipykernel)",
   "language": "python",
   "name": "python3"
  },
  "language_info": {
   "codemirror_mode": {
    "name": "ipython",
    "version": 3
   },
   "file_extension": ".py",
   "mimetype": "text/x-python",
   "name": "python",
   "nbconvert_exporter": "python",
   "pygments_lexer": "ipython3",
   "version": "3.9.12"
  }
 },
 "nbformat": 4,
 "nbformat_minor": 5
}
